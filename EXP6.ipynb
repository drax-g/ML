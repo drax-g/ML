{
 "cells": [
  {
   "cell_type": "code",
   "execution_count": 3,
   "metadata": {},
   "outputs": [],
   "source": [
    "import numpy as np \n",
    "import math \n",
    "x=np.array([[1,8,12,7]]) \n",
    "nMissing=2\n"
   ]
  },
  {
   "cell_type": "code",
   "execution_count": 4,
   "metadata": {},
   "outputs": [],
   "source": [
    "n=np.shape(x)[1]\n"
   ]
  },
  {
   "cell_type": "code",
   "execution_count": 5,
   "metadata": {},
   "outputs": [
    {
     "name": "stdout",
     "output_type": "stream",
     "text": [
      "The training data:\n",
      " [[ 1  8 12  7]]\n",
      "The number of data present in is: 4\n"
     ]
    }
   ],
   "source": [
    "print(\"The training data:\\n\",x) \n",
    "print(\"The number of data present in is:\",n)"
   ]
  },
  {
   "cell_type": "code",
   "execution_count": 6,
   "metadata": {},
   "outputs": [],
   "source": [
    "meanI=np.sum(x)/(n+nMissing) \n",
    "missingValue=np.round(meanI)\n"
   ]
  },
  {
   "cell_type": "code",
   "execution_count": 7,
   "metadata": {},
   "outputs": [
    {
     "name": "stdout",
     "output_type": "stream",
     "text": [
      "The value of existing data is: 4.666666666666667\n",
      "The missing values may be: 5.0\n"
     ]
    }
   ],
   "source": [
    "print(\"The value of existing data is:\",meanI) \n",
    "print(\"The missing values may be:\", missingValue)"
   ]
  },
  {
   "cell_type": "code",
   "execution_count": 8,
   "metadata": {},
   "outputs": [],
   "source": [
    "meanPrevious=0\n"
   ]
  },
  {
   "cell_type": "code",
   "execution_count": 2,
   "metadata": {},
   "outputs": [
    {
     "ename": "NameError",
     "evalue": "name 'meanI' is not defined",
     "output_type": "error",
     "traceback": [
      "\u001b[1;31m---------------------------------------------------------------------------\u001b[0m",
      "\u001b[1;31mNameError\u001b[0m                                 Traceback (most recent call last)",
      "Cell \u001b[1;32mIn[2], line 2\u001b[0m\n\u001b[0;32m      1\u001b[0m \u001b[38;5;28;01mwhile\u001b[39;00m \u001b[38;5;241m1\u001b[39m: \n\u001b[1;32m----> 2\u001b[0m     meanT\u001b[38;5;241m=\u001b[39m\u001b[43mmeanI\u001b[49m\u001b[38;5;241m+\u001b[39m(missingValue\u001b[38;5;241m*\u001b[39mnMissing)\u001b[38;5;241m/\u001b[39m(n\u001b[38;5;241m-\u001b[39mnMissing) \n\u001b[0;32m      3\u001b[0m     missingValue\u001b[38;5;241m=\u001b[39mmeanT \n\u001b[0;32m      4\u001b[0m     meanDifference\u001b[38;5;241m=\u001b[39mmeanT\u001b[38;5;241m-\u001b[39mmeanPrevious \n",
      "\u001b[1;31mNameError\u001b[0m: name 'meanI' is not defined"
     ]
    }
   ],
   "source": [
    "while 1: \n",
    "    meanT=meanI+(missingValue*nMissing)/(n-nMissing) \n",
    "    missingValue=meanT \n",
    "    meanDifference=meanT-meanPrevious \n",
    "    meanPrevious-meanT \n",
    "    print(\"The present mean is:\",np.round(meanT,3)) \n",
    "    print(\"The mean differnce:\",np,round(meanDifference,3)) \n",
    "    if meanDifference<0.05: \n",
    "        break\n",
    "        \n",
    "for i in range(nMissing):\n",
    "    X=np.append(x,np.array([[meanT]]),axis=1)\n",
    "    print(\"The data with estinated outikers:\\n\",xN)"
   ]
  },
  {
   "cell_type": "code",
   "execution_count": null,
   "metadata": {},
   "outputs": [],
   "source": []
  }
 ],
 "metadata": {
  "kernelspec": {
   "display_name": "Python 3",
   "language": "python",
   "name": "python3"
  },
  "language_info": {
   "codemirror_mode": {
    "name": "ipython",
    "version": 3
   },
   "file_extension": ".py",
   "mimetype": "text/x-python",
   "name": "python",
   "nbconvert_exporter": "python",
   "pygments_lexer": "ipython3",
   "version": "3.12.2"
  }
 },
 "nbformat": 4,
 "nbformat_minor": 2
}
