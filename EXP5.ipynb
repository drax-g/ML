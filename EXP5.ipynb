{
 "cells": [
  {
   "cell_type": "code",
   "execution_count": 1,
   "metadata": {},
   "outputs": [],
   "source": [
    "import numpy as np\n"
   ]
  },
  {
   "cell_type": "code",
   "execution_count": 2,
   "metadata": {},
   "outputs": [],
   "source": [
    "INPUTS = np.array([[1, 1], [1, -1], [-1, 1], [-1, -1]]) \n",
    "outputs=np.array( [1,-1,-1,-1])\n"
   ]
  },
  {
   "cell_type": "code",
   "execution_count": 8,
   "metadata": {},
   "outputs": [],
   "source": [
    "def hebb(outputs, weights, bias):\n",
    "    for i in range(4):\n",
    "        weights[0] = weights[0] + (INPUTS[i][0] * outputs[i])\n",
    "        weights[1] = weights[1] + (INPUTS[i][1] * outputs[i])\n",
    "        bias = bias + (1 * outputs[i])\n",
    "\n",
    "        print(\"Weight updated: \" + str(weights[0]))\n",
    "        print(\"Weight updated: \" + str(weights[1]))\n",
    "        print(\"Bias updated: \" + str(bias))\n",
    "        print(\"------------------------------------------------\")\n",
    "\n",
    "    return weights, bias\n"
   ]
  },
  {
   "cell_type": "code",
   "execution_count": 9,
   "metadata": {},
   "outputs": [],
   "source": [
    "and_outputs = np.array([1, -1, -1, -1]) \n",
    "weights = np.array([0.0, 0.0]) \n",
    "bias = 0\n"
   ]
  },
  {
   "cell_type": "code",
   "execution_count": 16,
   "metadata": {},
   "outputs": [
    {
     "name": "stdout",
     "output_type": "stream",
     "text": [
      "Weight updated: 1.0\n",
      "Weight updated: 1.0\n",
      "Bias updated: 1\n",
      "------------------------------------------------\n",
      "Weight updated: 0.0\n",
      "Weight updated: 2.0\n",
      "Bias updated: 0\n",
      "------------------------------------------------\n",
      "Weight updated: 1.0\n",
      "Weight updated: 1.0\n",
      "Bias updated: -1\n",
      "------------------------------------------------\n",
      "Weight updated: 2.0\n",
      "Weight updated: 2.0\n",
      "Bias updated: -2\n",
      "------------------------------------------------\n"
     ]
    }
   ],
   "source": [
    "returned_weights, returned_bias = hebb(and_outputs, weights,bias)"
   ]
  },
  {
   "cell_type": "code",
   "execution_count": null,
   "metadata": {},
   "outputs": [],
   "source": []
  }
 ],
 "metadata": {
  "kernelspec": {
   "display_name": "Python 3",
   "language": "python",
   "name": "python3"
  },
  "language_info": {
   "codemirror_mode": {
    "name": "ipython",
    "version": 3
   },
   "file_extension": ".py",
   "mimetype": "text/x-python",
   "name": "python",
   "nbconvert_exporter": "python",
   "pygments_lexer": "ipython3",
   "version": "3.12.2"
  }
 },
 "nbformat": 4,
 "nbformat_minor": 2
}
